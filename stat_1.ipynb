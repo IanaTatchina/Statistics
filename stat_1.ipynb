{
 "cells": [
  {
   "cell_type": "code",
   "execution_count": 2,
   "metadata": {
    "collapsed": true
   },
   "outputs": [],
   "source": [
    "import pandas as pd\n",
    "\n",
    "df = pd.read_csv('./telecom_churn.csv')\n",
    "vector = df['Total day minutes'].astype(int).tolist()"
   ]
  },
  {
   "cell_type": "code",
   "execution_count": 12,
   "metadata": {},
   "outputs": [],
   "source": [
    "from collections import Counter\n",
    "import math\n",
    "\n",
    "\n",
    "class Sample:\n",
    "    \n",
    "    def __init__(self, data):\n",
    "        self.data = data\n",
    "              \n",
    "    def get_modes(self):\n",
    "        c = Counter(self.data)\n",
    "        return [k for k, v in c.items() if v == max(c.values())]\n",
    "    \n",
    "    def get_median(self, data=None):\n",
    "        if data is None:\n",
    "            data = self.data\n",
    "        data = sorted(data)\n",
    "        med = len(data) // 2\n",
    "        \n",
    "        if len(data) % 2:\n",
    "            return data[med]\n",
    "        return sum(data[med-1:med+1]) / 2       \n",
    "        \n",
    "    def get_mean(self):\n",
    "        return sum(self.data) / len(self.data)    \n",
    "    \n",
    "    def get_range(self):\n",
    "        return max(self.data) - min(self.data)\n",
    "    \n",
    "    def get_variance(self):\n",
    "        mean = self.get_mean()\n",
    "        return sum([(i - mean) ** 2 for i in self.data]) / (len(self.data) - 1)\n",
    "    \n",
    "    def get_std(self):\n",
    "        return math.sqrt(self.get_variance())\n",
    "    \n",
    "    def get_left_quartile(self):\n",
    "        median = self.get_median()\n",
    "        left_half = [i for i in self.data if i < median]\n",
    "        return self.get_median(data=left_half)\n",
    "    \n",
    "    def get_right_quartile(self):\n",
    "        median = self.get_median()\n",
    "        right_half = [i for i in self.data if i > median]\n",
    "        return self.get_median(data=right_half)\n",
    "    \n",
    "    def to_z_scores(self):\n",
    "        mean = self.get_mean()\n",
    "        std = self.get_std()\n",
    "        return [(z - mean) / std for z in self.data]\n",
    "\n",
    "s = Sample(vector)\n",
    "s.get_modes(), s.get_median(), s.get_mean(), s.get_range(), s.get_variance(), s.get_std(), \n",
    "s.get_left_quartile(), s.get_right_quartile(), s.to_z_scores()\n",
    "\n",
    "new_sample = Sample(s.to_z_scores())"
   ]
  },
  {
   "cell_type": "code",
   "execution_count": 13,
   "metadata": {},
   "outputs": [
    {
     "data": {
      "text/plain": [
       "[-0.46500598452016284, -0.07944460473553037, 0.3244768407531322]"
      ]
     },
     "execution_count": 13,
     "metadata": {},
     "output_type": "execute_result"
    }
   ],
   "source": [
    "new_sample.get_modes()"
   ]
  },
  {
   "cell_type": "code",
   "execution_count": null,
   "metadata": {},
   "outputs": [],
   "source": [
    "\n"
   ]
  }
 ],
 "metadata": {
  "kernelspec": {
   "display_name": "Python 3",
   "language": "python",
   "name": "python3"
  },
  "language_info": {
   "codemirror_mode": {
    "name": "ipython",
    "version": 3
   },
   "file_extension": ".py",
   "mimetype": "text/x-python",
   "name": "python",
   "nbconvert_exporter": "python",
   "pygments_lexer": "ipython3",
   "version": "3.6.3"
  }
 },
 "nbformat": 4,
 "nbformat_minor": 2
}
